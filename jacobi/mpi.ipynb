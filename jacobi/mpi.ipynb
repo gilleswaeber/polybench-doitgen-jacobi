{
 "cells": [
  {
   "cell_type": "code",
   "execution_count": null,
   "metadata": {
    "collapsed": true
   },
   "outputs": [],
   "source": [
    "from collections import defaultdict\n",
    "from pathlib import Path\n",
    "from jacobi_mpi_collect import LSB_NAME_PATTERN\n",
    "\n",
    "path = Path('../1214022555')\n",
    "all = defaultdict(list)\n",
    "\n",
    "for f in path.iterdir():\n",
    "    if not f.is_file():\n",
    "        continue\n",
    "    n = LSB_NAME_PATTERN.match(f.name)\n",
    "    if n:\n",
    "        print(n)"
   ]
  }
 ],
 "metadata": {
  "kernelspec": {
   "display_name": "Python 3",
   "language": "python",
   "name": "python3"
  },
  "language_info": {
   "codemirror_mode": {
    "name": "ipython",
    "version": 2
   },
   "file_extension": ".py",
   "mimetype": "text/x-python",
   "name": "python",
   "nbconvert_exporter": "python",
   "pygments_lexer": "ipython2",
   "version": "2.7.6"
  }
 },
 "nbformat": 4,
 "nbformat_minor": 0
}